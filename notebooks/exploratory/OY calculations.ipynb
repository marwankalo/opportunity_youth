{
 "cells": [
  {
   "cell_type": "markdown",
   "metadata": {},
   "source": [
    "# work no diploma"
   ]
  },
  {
   "cell_type": "code",
   "execution_count": 263,
   "metadata": {},
   "outputs": [],
   "source": [
    "import pandas as pd\n",
    "import matplotlib.pyplot as plt"
   ]
  },
  {
   "cell_type": "code",
   "execution_count": 264,
   "metadata": {},
   "outputs": [],
   "source": [
    "# imported csv file from sql, we used count() to find the total of the column\n",
    "# we specify which column the function will work on, this case[agep]\n",
    "# then we get the final value"
   ]
  },
  {
   "cell_type": "code",
   "execution_count": 265,
   "metadata": {},
   "outputs": [],
   "source": [
    "tot_working_no_diploma = pd.read_csv('/Users/marwankalo/Documents/Data_Science/Project_Mod_1/opportunity_youth/data/processed/total working no dip final.csv').count()\n",
    "tot_working_no_diplomaw = tot_working_no_diploma['agep']"
   ]
  },
  {
   "cell_type": "code",
   "execution_count": 266,
   "metadata": {},
   "outputs": [],
   "source": [
    "work_no_dip_16_18 = pd.read_csv('/Users/marwankalo/Documents/Data_Science/Project_Mod_1/opportunity_youth/data/processed/working no dip 16_18.csv').count()\n",
    "work_no_dip_16_18w = work_no_dip_16_18['agep']"
   ]
  },
  {
   "cell_type": "code",
   "execution_count": 267,
   "metadata": {},
   "outputs": [],
   "source": [
    "work_no_dip_19_21 = pd.read_csv('/Users/marwankalo/Documents/Data_Science/Project_Mod_1/opportunity_youth/data/processed/working no dip 19_21 final.csv').count()\n",
    "work_no_dip_19_21w = work_no_dip_19_21['agep']"
   ]
  },
  {
   "cell_type": "code",
   "execution_count": 268,
   "metadata": {},
   "outputs": [],
   "source": [
    "work_no_dip_22_24 = pd.read_csv('/Users/marwankalo/Documents/Data_Science/Project_Mod_1/opportunity_youth/data/processed/working no dip 22_24 final.csv').count()\n",
    "work_no_dip_22_24w = work_no_dip_22_24['agep']"
   ]
  },
  {
   "cell_type": "code",
   "execution_count": 269,
   "metadata": {},
   "outputs": [
    {
     "data": {
      "text/html": [
       "<div>\n",
       "<style scoped>\n",
       "    .dataframe tbody tr th:only-of-type {\n",
       "        vertical-align: middle;\n",
       "    }\n",
       "\n",
       "    .dataframe tbody tr th {\n",
       "        vertical-align: top;\n",
       "    }\n",
       "\n",
       "    .dataframe thead th {\n",
       "        text-align: right;\n",
       "    }\n",
       "</style>\n",
       "<table border=\"1\" class=\"dataframe\">\n",
       "  <thead>\n",
       "    <tr style=\"text-align: right;\">\n",
       "      <th></th>\n",
       "      <th>16-18</th>\n",
       "      <th>19-21</th>\n",
       "      <th>22-24</th>\n",
       "      <th>Totals</th>\n",
       "    </tr>\n",
       "  </thead>\n",
       "  <tbody>\n",
       "    <tr>\n",
       "      <th>working without diploma</th>\n",
       "      <td>19</td>\n",
       "      <td>120</td>\n",
       "      <td>245</td>\n",
       "      <td>384</td>\n",
       "    </tr>\n",
       "  </tbody>\n",
       "</table>\n",
       "</div>"
      ],
      "text/plain": [
       "                         16-18  19-21  22-24  Totals\n",
       "working without diploma     19    120    245     384"
      ]
     },
     "execution_count": 269,
     "metadata": {},
     "output_type": "execute_result"
    }
   ],
   "source": [
    "# after all the results, we created a DataFrame \n",
    "work_no = {'16-18': [work_no_dip_16_18w], '19-21':[work_no_dip_19_21w], '22-24':[work_no_dip_22_24w], 'Totals':[tot_working_no_diplomaw]}\n",
    "de = pd.DataFrame(data=work_no, index=['working without diploma'])\n",
    "de"
   ]
  },
  {
   "cell_type": "markdown",
   "metadata": {},
   "source": [
    "## Not on Opportunity Youth"
   ]
  },
  {
   "cell_type": "code",
   "execution_count": 270,
   "metadata": {},
   "outputs": [],
   "source": [
    "# Not on OY ... we filtered by three parameters to get the final value of each age's group\n",
    "# imported csv file from sql, we used count() to find the total of the column\n",
    "# we specify which column the function will work on, this case[agep]\n",
    "# then we get the final value"
   ]
  },
  {
   "cell_type": "code",
   "execution_count": 271,
   "metadata": {},
   "outputs": [],
   "source": [
    "# no working  in school"
   ]
  },
  {
   "cell_type": "code",
   "execution_count": 272,
   "metadata": {},
   "outputs": [],
   "source": [
    "no_work_sch_16_18 = pd.read_csv('/Users/marwankalo/Documents/Data_Science/Project_Mod_1/opportunity_youth/data/processed/no work sch 16_18 final.csv').count()\n",
    "no_work_sch_16_18x = no_work_sch_16_18['agep']"
   ]
  },
  {
   "cell_type": "code",
   "execution_count": 273,
   "metadata": {},
   "outputs": [],
   "source": [
    "no_work_sch_19_21 = pd.read_csv('/Users/marwankalo/Documents/Data_Science/Project_Mod_1/opportunity_youth/data/processed/no work sch 19_21 final.csv').count()\n",
    "no_work_sch_19_21x = no_work_sch_19_21['agep']"
   ]
  },
  {
   "cell_type": "code",
   "execution_count": 274,
   "metadata": {},
   "outputs": [],
   "source": [
    "no_work_sch_22_24 = pd.read_csv('/Users/marwankalo/Documents/Data_Science/Project_Mod_1/opportunity_youth/data/processed/no work sch 22_24 final.csv').count()\n",
    "no_work_sch_22_24x = no_work_sch_22_24['agep']"
   ]
  },
  {
   "cell_type": "code",
   "execution_count": 275,
   "metadata": {},
   "outputs": [],
   "source": [
    "# working no school"
   ]
  },
  {
   "cell_type": "code",
   "execution_count": 276,
   "metadata": {},
   "outputs": [],
   "source": [
    "work_no_sch_16_18 = pd.read_csv('/Users/marwankalo/Documents/Data_Science/Project_Mod_1/opportunity_youth/data/processed/work no sch 16 18 final.csv').count()\n",
    "work_no_sch_16_18x = work_no_sch_16_18['agep']"
   ]
  },
  {
   "cell_type": "code",
   "execution_count": 277,
   "metadata": {},
   "outputs": [],
   "source": [
    "work_no_sch_19_21 = pd.read_csv('/Users/marwankalo/Documents/Data_Science/Project_Mod_1/opportunity_youth/data/processed/work no sch 19 21 final.csv').count()\n",
    "work_no_sch_19_21x = work_no_sch_19_21['agep']"
   ]
  },
  {
   "cell_type": "code",
   "execution_count": 278,
   "metadata": {},
   "outputs": [],
   "source": [
    "work_no_sch_22_24 = pd.read_csv('/Users/marwankalo/Documents/Data_Science/Project_Mod_1/opportunity_youth/data/processed/work no sch 22 24 final.csv').count()\n",
    "work_no_sch_22_24x = work_no_sch_22_24['agep']"
   ]
  },
  {
   "cell_type": "code",
   "execution_count": 279,
   "metadata": {},
   "outputs": [],
   "source": [
    "# working and schooling"
   ]
  },
  {
   "cell_type": "code",
   "execution_count": 280,
   "metadata": {},
   "outputs": [],
   "source": [
    "work_sch_16_18 = pd.read_csv('/Users/marwankalo/Documents/Data_Science/Project_Mod_1/opportunity_youth/data/processed/work sch 16 18 final.csv').count()\n",
    "work_sch_16_18x = work_sch_16_18['agep']"
   ]
  },
  {
   "cell_type": "code",
   "execution_count": 281,
   "metadata": {},
   "outputs": [],
   "source": [
    "work_sch_19_21 = pd.read_csv('/Users/marwankalo/Documents/Data_Science/Project_Mod_1/opportunity_youth/data/processed/work sch 19 21 final.csv').count()\n",
    "work_sch_19_21x = work_sch_19_21['agep']"
   ]
  },
  {
   "cell_type": "code",
   "execution_count": 282,
   "metadata": {},
   "outputs": [],
   "source": [
    "work_sch_22_24 = pd.read_csv('/Users/marwankalo/Documents/Data_Science/Project_Mod_1/opportunity_youth/data/processed/work sch 22 24 final.csv').count()\n",
    "work_sch_22_24x = work_sch_22_24['agep']"
   ]
  },
  {
   "cell_type": "code",
   "execution_count": 283,
   "metadata": {},
   "outputs": [],
   "source": [
    "# calculating the totals of each age's group"
   ]
  },
  {
   "cell_type": "code",
   "execution_count": 284,
   "metadata": {},
   "outputs": [],
   "source": [
    "total_16_18 =  (work_sch_16_18x + work_no_sch_16_18x + no_work_sch_16_18x)"
   ]
  },
  {
   "cell_type": "code",
   "execution_count": 285,
   "metadata": {},
   "outputs": [],
   "source": [
    "total_19_21 = (work_sch_19_21x + work_no_sch_19_21x + no_work_sch_19_21x)"
   ]
  },
  {
   "cell_type": "code",
   "execution_count": 286,
   "metadata": {},
   "outputs": [],
   "source": [
    "total_22_24 = (work_sch_22_24x + work_no_sch_22_24x + no_work_sch_22_24x)"
   ]
  },
  {
   "cell_type": "code",
   "execution_count": 287,
   "metadata": {},
   "outputs": [],
   "source": [
    "total_22_24 = (work_sch_22_24x + work_no_sch_22_24x + no_work_sch_22_24x)"
   ]
  },
  {
   "cell_type": "code",
   "execution_count": 288,
   "metadata": {},
   "outputs": [
    {
     "data": {
      "text/html": [
       "<div>\n",
       "<style scoped>\n",
       "    .dataframe tbody tr th:only-of-type {\n",
       "        vertical-align: middle;\n",
       "    }\n",
       "\n",
       "    .dataframe tbody tr th {\n",
       "        vertical-align: top;\n",
       "    }\n",
       "\n",
       "    .dataframe thead th {\n",
       "        text-align: right;\n",
       "    }\n",
       "</style>\n",
       "<table border=\"1\" class=\"dataframe\">\n",
       "  <thead>\n",
       "    <tr style=\"text-align: right;\">\n",
       "      <th></th>\n",
       "      <th>16-18</th>\n",
       "      <th>19-21</th>\n",
       "      <th>22-24</th>\n",
       "      <th>Totals</th>\n",
       "    </tr>\n",
       "  </thead>\n",
       "  <tbody>\n",
       "    <tr>\n",
       "      <th>Not on Opportunity Youth</th>\n",
       "      <td>1156</td>\n",
       "      <td>922</td>\n",
       "      <td>1046</td>\n",
       "      <td>3124</td>\n",
       "    </tr>\n",
       "  </tbody>\n",
       "</table>\n",
       "</div>"
      ],
      "text/plain": [
       "                          16-18  19-21  22-24  Totals\n",
       "Not on Opportunity Youth   1156    922   1046    3124"
      ]
     },
     "execution_count": 288,
     "metadata": {},
     "output_type": "execute_result"
    }
   ],
   "source": [
    "not_on_oy = {'16-18': [total_16_18], '19-21':[total_19_21], '22-24':[total_22_24], 'Totals':[total_22_24 + total_19_21 + total_16_18]}\n",
    "df = pd.DataFrame(data=not_on_oy, index=['Not on Opportunity Youth'])\n",
    "df"
   ]
  },
  {
   "cell_type": "markdown",
   "metadata": {},
   "source": [
    "# Opportunity Youth"
   ]
  },
  {
   "cell_type": "code",
   "execution_count": 289,
   "metadata": {},
   "outputs": [],
   "source": [
    "# imported csv file from sql, we used count() to find the total of the column\n",
    "# we specify which column the function will work on, this case[agep]\n",
    "# then we get the final value"
   ]
  },
  {
   "cell_type": "code",
   "execution_count": 290,
   "metadata": {},
   "outputs": [],
   "source": [
    "oy_16_18 = pd.read_csv('/Users/marwankalo/Documents/Data_Science/Project_Mod_1/opportunity_youth/data/processed/oy 16_18 final.csv').count()\n",
    "oy_16_18x = oy_16_18['agep']"
   ]
  },
  {
   "cell_type": "code",
   "execution_count": 291,
   "metadata": {},
   "outputs": [],
   "source": [
    "oy_19_21 = pd.read_csv('/Users/marwankalo/Documents/Data_Science/Project_Mod_1/opportunity_youth/data/processed/oy 19_21 final.csv').count()\n",
    "oy_19_21x = oy_19_21['agep']"
   ]
  },
  {
   "cell_type": "code",
   "execution_count": 292,
   "metadata": {},
   "outputs": [],
   "source": [
    "oy_22_24 = pd.read_csv('/Users/marwankalo/Documents/Data_Science/Project_Mod_1/opportunity_youth/data/processed/oy 22_24 final.csv').count()\n",
    "oy_22_24x =oy_22_24['agep']"
   ]
  },
  {
   "cell_type": "code",
   "execution_count": 293,
   "metadata": {},
   "outputs": [],
   "source": [
    "oy_total = pd.read_csv('/Users/marwankalo/Documents/Data_Science/Project_Mod_1/opportunity_youth/data/processed/total oy final.csv').count()\n",
    "oy_totalx= oy_total['agep']"
   ]
  },
  {
   "cell_type": "code",
   "execution_count": 294,
   "metadata": {},
   "outputs": [],
   "source": [
    "# all DataFrame created, we do a concatenation operation, which it gives us a table with all the results from the three DF previuos created  \n",
    "on_oy = {'16-18': [oy_16_18x], '19-21':[oy_19_21x], '22-24':[oy_22_24x], 'Totals':[oy_totalx]}\n",
    "dv = pd.DataFrame(data=on_oy, index=['Opportunity Youth'])"
   ]
  },
  {
   "cell_type": "code",
   "execution_count": 295,
   "metadata": {},
   "outputs": [
    {
     "data": {
      "text/html": [
       "<div>\n",
       "<style scoped>\n",
       "    .dataframe tbody tr th:only-of-type {\n",
       "        vertical-align: middle;\n",
       "    }\n",
       "\n",
       "    .dataframe tbody tr th {\n",
       "        vertical-align: top;\n",
       "    }\n",
       "\n",
       "    .dataframe thead th {\n",
       "        text-align: right;\n",
       "    }\n",
       "</style>\n",
       "<table border=\"1\" class=\"dataframe\">\n",
       "  <thead>\n",
       "    <tr style=\"text-align: right;\">\n",
       "      <th></th>\n",
       "      <th>16-18</th>\n",
       "      <th>19-21</th>\n",
       "      <th>22-24</th>\n",
       "      <th>Totals</th>\n",
       "    </tr>\n",
       "  </thead>\n",
       "  <tbody>\n",
       "    <tr>\n",
       "      <th>Opportunity Youth</th>\n",
       "      <td>61</td>\n",
       "      <td>136</td>\n",
       "      <td>173</td>\n",
       "      <td>370</td>\n",
       "    </tr>\n",
       "    <tr>\n",
       "      <th>working without diploma</th>\n",
       "      <td>19</td>\n",
       "      <td>120</td>\n",
       "      <td>245</td>\n",
       "      <td>384</td>\n",
       "    </tr>\n",
       "    <tr>\n",
       "      <th>Not on Opportunity Youth</th>\n",
       "      <td>1156</td>\n",
       "      <td>922</td>\n",
       "      <td>1046</td>\n",
       "      <td>3124</td>\n",
       "    </tr>\n",
       "  </tbody>\n",
       "</table>\n",
       "</div>"
      ],
      "text/plain": [
       "                          16-18  19-21  22-24  Totals\n",
       "Opportunity Youth            61    136    173     370\n",
       "working without diploma      19    120    245     384\n",
       "Not on Opportunity Youth   1156    922   1046    3124"
      ]
     },
     "execution_count": 295,
     "metadata": {},
     "output_type": "execute_result"
    }
   ],
   "source": [
    "result = pd.concat([dv, de, df])\n",
    "result"
   ]
  },
  {
   "cell_type": "markdown",
   "metadata": {},
   "source": [
    "# Second Table"
   ]
  },
  {
   "cell_type": "markdown",
   "metadata": {},
   "source": [
    "#  Breaking down Opportunity Youth by Grade"
   ]
  },
  {
   "cell_type": "markdown",
   "metadata": {},
   "source": [
    "### No diploma"
   ]
  },
  {
   "cell_type": "code",
   "execution_count": 296,
   "metadata": {},
   "outputs": [],
   "source": [
    "# imported csv file from sql, we used count() to find the total of the column\n",
    "# we specify which column the function will work on, this case[agep]\n",
    "# then we get the final value"
   ]
  },
  {
   "cell_type": "code",
   "execution_count": 297,
   "metadata": {},
   "outputs": [],
   "source": [
    "oy_no_dip_to = pd.read_csv('/Users/marwankalo/Documents/Data_Science/Project_Mod_1/opportunity_youth/data/processed/oy no dip total final.csv').count()\n",
    "oy_no_dip_t = oy_no_dip_to['agep']"
   ]
  },
  {
   "cell_type": "code",
   "execution_count": 298,
   "metadata": {},
   "outputs": [],
   "source": [
    "oy_no_dip_16_18 = pd.read_csv('/Users/marwankalo/Documents/Data_Science/Project_Mod_1/opportunity_youth/data/processed/oy no dip 16_18 final.csv').count()\n",
    "oy_no_dip_16_18x = oy_no_dip_16_18['agep']"
   ]
  },
  {
   "cell_type": "code",
   "execution_count": 299,
   "metadata": {},
   "outputs": [],
   "source": [
    "oy_no_dip_19_21 = pd.read_csv('/Users/marwankalo/Documents/Data_Science/Project_Mod_1/opportunity_youth/data/processed/oy no dip 19_21 final.csv').count()\n",
    "oy_no_dip_19_21x = oy_no_dip_19_21['agep']"
   ]
  },
  {
   "cell_type": "code",
   "execution_count": 300,
   "metadata": {},
   "outputs": [],
   "source": [
    "oy_no_dip_22_24 = pd.read_csv('/Users/marwankalo/Documents/Data_Science/Project_Mod_1/opportunity_youth/data/processed/oy no dip 22_24 final.csv').count()\n",
    "oy_no_dip_22_24x = oy_no_dip_22_24['agep']"
   ]
  },
  {
   "cell_type": "code",
   "execution_count": 301,
   "metadata": {},
   "outputs": [
    {
     "data": {
      "text/html": [
       "<div>\n",
       "<style scoped>\n",
       "    .dataframe tbody tr th:only-of-type {\n",
       "        vertical-align: middle;\n",
       "    }\n",
       "\n",
       "    .dataframe tbody tr th {\n",
       "        vertical-align: top;\n",
       "    }\n",
       "\n",
       "    .dataframe thead th {\n",
       "        text-align: right;\n",
       "    }\n",
       "</style>\n",
       "<table border=\"1\" class=\"dataframe\">\n",
       "  <thead>\n",
       "    <tr style=\"text-align: right;\">\n",
       "      <th></th>\n",
       "      <th>16-18</th>\n",
       "      <th>19-21</th>\n",
       "      <th>22-24</th>\n",
       "      <th>Totals</th>\n",
       "    </tr>\n",
       "  </thead>\n",
       "  <tbody>\n",
       "    <tr>\n",
       "      <th>No diploma</th>\n",
       "      <td>41</td>\n",
       "      <td>62</td>\n",
       "      <td>81</td>\n",
       "      <td>184</td>\n",
       "    </tr>\n",
       "  </tbody>\n",
       "</table>\n",
       "</div>"
      ],
      "text/plain": [
       "            16-18  19-21  22-24  Totals\n",
       "No diploma     41     62     81     184"
      ]
     },
     "execution_count": 301,
     "metadata": {},
     "output_type": "execute_result"
    }
   ],
   "source": [
    "oy_no_dip = {'16-18': [oy_no_dip_16_18x], '19-21':[oy_no_dip_19_21x], '22-24':[oy_no_dip_22_24x], 'Totals':[oy_no_dip_t]}\n",
    "dd = pd.DataFrame(data=oy_no_dip, index=['No diploma'])\n",
    "dd"
   ]
  },
  {
   "cell_type": "markdown",
   "metadata": {},
   "source": [
    "### hs diploma GED"
   ]
  },
  {
   "cell_type": "code",
   "execution_count": 302,
   "metadata": {},
   "outputs": [],
   "source": [
    "# imported csv file from sql, we used count() to find the total of the column\n",
    "# we specify which column the function will work on, this case[agep]\n",
    "# then we get the final value"
   ]
  },
  {
   "cell_type": "code",
   "execution_count": 303,
   "metadata": {},
   "outputs": [],
   "source": [
    "hs_dip_total = pd.read_csv('/Users/marwankalo/Documents/Data_Science/Project_Mod_1/opportunity_youth/data/processed/total hs dip ged final .csv').count()\n",
    "hs_dip_t = hs_dip_total['agep']"
   ]
  },
  {
   "cell_type": "code",
   "execution_count": 304,
   "metadata": {},
   "outputs": [],
   "source": [
    "hs_dip_16_18 = pd.read_csv('/Users/marwankalo/Documents/Data_Science/Project_Mod_1/opportunity_youth/data/processed/hs dip ged 16_18.csv').count()\n",
    "hs_dip_16_18x = hs_dip_16_18['agep']"
   ]
  },
  {
   "cell_type": "code",
   "execution_count": 305,
   "metadata": {},
   "outputs": [],
   "source": [
    "hs_dip_19_21 = pd.read_csv('/Users/marwankalo/Documents/Data_Science/Project_Mod_1/opportunity_youth/data/processed/hs dip ged 19_21 final.csv').count()\n",
    "hs_dip_19_21x = hs_dip_19_21['agep']"
   ]
  },
  {
   "cell_type": "code",
   "execution_count": 306,
   "metadata": {},
   "outputs": [],
   "source": [
    "hs_dip_22_24 = pd.read_csv('/Users/marwankalo/Documents/Data_Science/Project_Mod_1/opportunity_youth/data/processed/hs dip ged 22_24 final.csv').count()\n",
    "hs_dip_22_24x = hs_dip_22_24['agep']"
   ]
  },
  {
   "cell_type": "code",
   "execution_count": 307,
   "metadata": {},
   "outputs": [
    {
     "data": {
      "text/html": [
       "<div>\n",
       "<style scoped>\n",
       "    .dataframe tbody tr th:only-of-type {\n",
       "        vertical-align: middle;\n",
       "    }\n",
       "\n",
       "    .dataframe tbody tr th {\n",
       "        vertical-align: top;\n",
       "    }\n",
       "\n",
       "    .dataframe thead th {\n",
       "        text-align: right;\n",
       "    }\n",
       "</style>\n",
       "<table border=\"1\" class=\"dataframe\">\n",
       "  <thead>\n",
       "    <tr style=\"text-align: right;\">\n",
       "      <th></th>\n",
       "      <th>16-18</th>\n",
       "      <th>19-21</th>\n",
       "      <th>22-24</th>\n",
       "      <th>Totals</th>\n",
       "    </tr>\n",
       "  </thead>\n",
       "  <tbody>\n",
       "    <tr>\n",
       "      <th>HS diploma or GED</th>\n",
       "      <td>20</td>\n",
       "      <td>69</td>\n",
       "      <td>73</td>\n",
       "      <td>162</td>\n",
       "    </tr>\n",
       "  </tbody>\n",
       "</table>\n",
       "</div>"
      ],
      "text/plain": [
       "                   16-18  19-21  22-24  Totals\n",
       "HS diploma or GED     20     69     73     162"
      ]
     },
     "execution_count": 307,
     "metadata": {},
     "output_type": "execute_result"
    }
   ],
   "source": [
    "hs_dip = {'16-18': [hs_dip_16_18x], '19-21':[hs_dip_19_21x], '22-24':[hs_dip_22_24x], 'Totals':[hs_dip_t]}\n",
    "dh = pd.DataFrame(data=hs_dip, index=['HS diploma or GED'])\n",
    "dh"
   ]
  },
  {
   "cell_type": "markdown",
   "metadata": {},
   "source": [
    "### college no degree"
   ]
  },
  {
   "cell_type": "code",
   "execution_count": 308,
   "metadata": {},
   "outputs": [],
   "source": [
    "# imported csv file from sql, we used count() to find the total of the column\n",
    "# we specify which column the function will work on, this case[agep]\n",
    "# then we get the final value"
   ]
  },
  {
   "cell_type": "code",
   "execution_count": 309,
   "metadata": {},
   "outputs": [],
   "source": [
    "col_no_de_to = pd.read_csv('/Users/marwankalo/Documents/Data_Science/Project_Mod_1/opportunity_youth/data/processed/college no degree final.csv').count()\n",
    "col_no_de_t = col_no_de_to['agep']"
   ]
  },
  {
   "cell_type": "code",
   "execution_count": 310,
   "metadata": {},
   "outputs": [],
   "source": [
    "col_no_de_16_18 = pd.read_csv('/Users/marwankalo/Documents/Data_Science/Project_Mod_1/opportunity_youth/data/processed/college no deg 16_18 final.csv').count()\n",
    "col_no_de_16_18x = col_no_de_16_18['agep']"
   ]
  },
  {
   "cell_type": "code",
   "execution_count": 311,
   "metadata": {},
   "outputs": [],
   "source": [
    "col_no_de_19_21 = pd.read_csv('/Users/marwankalo/Documents/Data_Science/Project_Mod_1/opportunity_youth/data/processed/college no deg 19_21 final.csv').count()\n",
    "col_no_de_19_21x = col_no_de_19_21['agep']"
   ]
  },
  {
   "cell_type": "code",
   "execution_count": 312,
   "metadata": {},
   "outputs": [],
   "source": [
    "col_no_de_22_24 = pd.read_csv('/Users/marwankalo/Documents/Data_Science/Project_Mod_1/opportunity_youth/data/processed/college no deg 22_24 final.csv').count()\n",
    "col_no_de_22_24x = col_no_de_22_24['agep']"
   ]
  },
  {
   "cell_type": "code",
   "execution_count": 313,
   "metadata": {},
   "outputs": [
    {
     "data": {
      "text/html": [
       "<div>\n",
       "<style scoped>\n",
       "    .dataframe tbody tr th:only-of-type {\n",
       "        vertical-align: middle;\n",
       "    }\n",
       "\n",
       "    .dataframe tbody tr th {\n",
       "        vertical-align: top;\n",
       "    }\n",
       "\n",
       "    .dataframe thead th {\n",
       "        text-align: right;\n",
       "    }\n",
       "</style>\n",
       "<table border=\"1\" class=\"dataframe\">\n",
       "  <thead>\n",
       "    <tr style=\"text-align: right;\">\n",
       "      <th></th>\n",
       "      <th>16-18</th>\n",
       "      <th>19-21</th>\n",
       "      <th>22-24</th>\n",
       "      <th>Totals</th>\n",
       "    </tr>\n",
       "  </thead>\n",
       "  <tbody>\n",
       "    <tr>\n",
       "      <th>Some college, no degree</th>\n",
       "      <td>3</td>\n",
       "      <td>17</td>\n",
       "      <td>35</td>\n",
       "      <td>55</td>\n",
       "    </tr>\n",
       "  </tbody>\n",
       "</table>\n",
       "</div>"
      ],
      "text/plain": [
       "                         16-18  19-21  22-24  Totals\n",
       "Some college, no degree      3     17     35      55"
      ]
     },
     "execution_count": 313,
     "metadata": {},
     "output_type": "execute_result"
    }
   ],
   "source": [
    "col_no_de = {'16-18': [col_no_de_16_18x], '19-21':[col_no_de_19_21x], '22-24':[col_no_de_22_24x], 'Totals':[col_no_de_t]}\n",
    "dcol = pd.DataFrame(data=col_no_de, index=['Some college, no degree'])\n",
    "dcol"
   ]
  },
  {
   "cell_type": "markdown",
   "metadata": {},
   "source": [
    "# degree"
   ]
  },
  {
   "cell_type": "code",
   "execution_count": 314,
   "metadata": {},
   "outputs": [],
   "source": [
    "# imported csv file from sql, we used count() to find the total of the column\n",
    "# we specify which column the function will work on, this case[agep]\n",
    "# then we get the final value"
   ]
  },
  {
   "cell_type": "code",
   "execution_count": 315,
   "metadata": {},
   "outputs": [],
   "source": [
    "degree_t= pd.read_csv('/Users/marwankalo/Documents/Data_Science/Project_Mod_1/opportunity_youth/data/processed/degree final.csv').count()\n",
    "degreex = degree_t['agep']"
   ]
  },
  {
   "cell_type": "code",
   "execution_count": 316,
   "metadata": {},
   "outputs": [],
   "source": [
    "degree_16_18 = pd.read_csv('/Users/marwankalo/Documents/Data_Science/Project_Mod_1/opportunity_youth/data/processed/degree 16_18 final.csv').count()\n",
    "degree_16_18x = degree_16_18['agep']"
   ]
  },
  {
   "cell_type": "code",
   "execution_count": 317,
   "metadata": {},
   "outputs": [],
   "source": [
    "degree_19_21 = pd.read_csv('/Users/marwankalo/Documents/Data_Science/Project_Mod_1/opportunity_youth/data/processed/degree 19_21 final.csv').count()\n",
    "degree_19_21x = degree_19_21['agep']"
   ]
  },
  {
   "cell_type": "code",
   "execution_count": 318,
   "metadata": {},
   "outputs": [],
   "source": [
    "degree_22_24 = pd.read_csv('/Users/marwankalo/Documents/Data_Science/Project_Mod_1/opportunity_youth/data/processed/degree 22_24 final.csv').count()\n",
    "degree_22_24x = degree_22_24['agep']"
   ]
  },
  {
   "cell_type": "code",
   "execution_count": 319,
   "metadata": {},
   "outputs": [
    {
     "data": {
      "text/html": [
       "<div>\n",
       "<style scoped>\n",
       "    .dataframe tbody tr th:only-of-type {\n",
       "        vertical-align: middle;\n",
       "    }\n",
       "\n",
       "    .dataframe tbody tr th {\n",
       "        vertical-align: top;\n",
       "    }\n",
       "\n",
       "    .dataframe thead th {\n",
       "        text-align: right;\n",
       "    }\n",
       "</style>\n",
       "<table border=\"1\" class=\"dataframe\">\n",
       "  <thead>\n",
       "    <tr style=\"text-align: right;\">\n",
       "      <th></th>\n",
       "      <th>16-18</th>\n",
       "      <th>19-21</th>\n",
       "      <th>22-24</th>\n",
       "      <th>Totals</th>\n",
       "    </tr>\n",
       "  </thead>\n",
       "  <tbody>\n",
       "    <tr>\n",
       "      <th>Degree (Associate or higher)</th>\n",
       "      <td>0</td>\n",
       "      <td>5</td>\n",
       "      <td>19</td>\n",
       "      <td>24</td>\n",
       "    </tr>\n",
       "  </tbody>\n",
       "</table>\n",
       "</div>"
      ],
      "text/plain": [
       "                              16-18  19-21  22-24  Totals\n",
       "Degree (Associate or higher)      0      5     19      24"
      ]
     },
     "execution_count": 319,
     "metadata": {},
     "output_type": "execute_result"
    }
   ],
   "source": [
    "degree = {'16-18': [degree_16_18x], '19-21':[degree_19_21x], '22-24':[degree_22_24x], 'Totals':[degreex]}\n",
    "dde = pd.DataFrame(data=degree, index=['Degree (Associate or higher)'])\n",
    "dde"
   ]
  },
  {
   "cell_type": "code",
   "execution_count": 320,
   "metadata": {},
   "outputs": [
    {
     "data": {
      "text/html": [
       "<div>\n",
       "<style scoped>\n",
       "    .dataframe tbody tr th:only-of-type {\n",
       "        vertical-align: middle;\n",
       "    }\n",
       "\n",
       "    .dataframe tbody tr th {\n",
       "        vertical-align: top;\n",
       "    }\n",
       "\n",
       "    .dataframe thead th {\n",
       "        text-align: right;\n",
       "    }\n",
       "</style>\n",
       "<table border=\"1\" class=\"dataframe\">\n",
       "  <thead>\n",
       "    <tr style=\"text-align: right;\">\n",
       "      <th></th>\n",
       "      <th>16-18</th>\n",
       "      <th>19-21</th>\n",
       "      <th>22-24</th>\n",
       "      <th>Totals</th>\n",
       "    </tr>\n",
       "  </thead>\n",
       "  <tbody>\n",
       "    <tr>\n",
       "      <th>No diploma</th>\n",
       "      <td>41</td>\n",
       "      <td>62</td>\n",
       "      <td>81</td>\n",
       "      <td>184</td>\n",
       "    </tr>\n",
       "    <tr>\n",
       "      <th>HS diploma or GED</th>\n",
       "      <td>20</td>\n",
       "      <td>69</td>\n",
       "      <td>73</td>\n",
       "      <td>162</td>\n",
       "    </tr>\n",
       "    <tr>\n",
       "      <th>Some college, no degree</th>\n",
       "      <td>3</td>\n",
       "      <td>17</td>\n",
       "      <td>35</td>\n",
       "      <td>55</td>\n",
       "    </tr>\n",
       "    <tr>\n",
       "      <th>Degree (Associate or higher)</th>\n",
       "      <td>0</td>\n",
       "      <td>5</td>\n",
       "      <td>19</td>\n",
       "      <td>24</td>\n",
       "    </tr>\n",
       "  </tbody>\n",
       "</table>\n",
       "</div>"
      ],
      "text/plain": [
       "                              16-18  19-21  22-24  Totals\n",
       "No diploma                       41     62     81     184\n",
       "HS diploma or GED                20     69     73     162\n",
       "Some college, no degree           3     17     35      55\n",
       "Degree (Associate or higher)      0      5     19      24"
      ]
     },
     "execution_count": 320,
     "metadata": {},
     "output_type": "execute_result"
    }
   ],
   "source": [
    "# all DataFrame created, we do a concatenation operation, which it gives us a table with all the results from the three DF previuos created  \n",
    "result2 = pd.concat([dd, dh, dcol, dde])\n",
    "result2"
   ]
  },
  {
   "cell_type": "markdown",
   "metadata": {},
   "source": [
    "# # Breakdown of the count of OY by PUMA within South King County\n"
   ]
  },
  {
   "cell_type": "code",
   "execution_count": 321,
   "metadata": {},
   "outputs": [],
   "source": [
    "# imported csv file from sql, we used count() to find the total of the column\n",
    "# we specify which column the function will work on, this case[agep]\n",
    "# then we get the final value\n",
    "# each variable represents the PUMA area"
   ]
  },
  {
   "cell_type": "code",
   "execution_count": 322,
   "metadata": {},
   "outputs": [],
   "source": [
    "r11610 = pd.read_csv('/Users/marwankalo/Documents/Data_Science/Project_Mod_1/opportunity_youth/data/processed/11610 oy.csv').count()\n",
    "x11610 = r11610['agep']"
   ]
  },
  {
   "cell_type": "code",
   "execution_count": 323,
   "metadata": {},
   "outputs": [],
   "source": [
    "r11611 = pd.read_csv('/Users/marwankalo/Documents/Data_Science/Project_Mod_1/opportunity_youth/data/processed/11611 oy.csv').count()\n",
    "x11611 = r11611['agep']"
   ]
  },
  {
   "cell_type": "code",
   "execution_count": 324,
   "metadata": {},
   "outputs": [],
   "source": [
    "r11612 = pd.read_csv('/Users/marwankalo/Documents/Data_Science/Project_Mod_1/opportunity_youth/data/processed/11612 oy.csv').count()\n",
    "x11612 = r11612['agep']"
   ]
  },
  {
   "cell_type": "code",
   "execution_count": 325,
   "metadata": {},
   "outputs": [],
   "source": [
    "r11613 = pd.read_csv('/Users/marwankalo/Documents/Data_Science/Project_Mod_1/opportunity_youth/data/processed/11613 oy.csv').count()\n",
    "x11613 = r11613['agep']"
   ]
  },
  {
   "cell_type": "code",
   "execution_count": 326,
   "metadata": {},
   "outputs": [],
   "source": [
    "r11614 = pd.read_csv('/Users/marwankalo/Documents/Data_Science/Project_Mod_1/opportunity_youth/data/processed/11614 oy.csv').count()\n",
    "x11614 = r11614['agep']"
   ]
  },
  {
   "cell_type": "code",
   "execution_count": 327,
   "metadata": {},
   "outputs": [],
   "source": [
    "r11615 = pd.read_csv('/Users/marwankalo/Documents/Data_Science/Project_Mod_1/opportunity_youth/data/processed/11615 oy.csv').count()\n",
    "x11615 = r11615['agep']"
   ]
  },
  {
   "cell_type": "code",
   "execution_count": 328,
   "metadata": {},
   "outputs": [],
   "source": [
    "skc_tot = pd.read_csv('/Users/marwankalo/Documents/Data_Science/Project_Mod_1/opportunity_youth/data/processed/skc tot.csv').count()\n",
    "skc_total = skc_tot['agep']\n"
   ]
  },
  {
   "cell_type": "code",
   "execution_count": 329,
   "metadata": {},
   "outputs": [
    {
     "data": {
      "text/html": [
       "<div>\n",
       "<style scoped>\n",
       "    .dataframe tbody tr th:only-of-type {\n",
       "        vertical-align: middle;\n",
       "    }\n",
       "\n",
       "    .dataframe tbody tr th {\n",
       "        vertical-align: top;\n",
       "    }\n",
       "\n",
       "    .dataframe thead th {\n",
       "        text-align: right;\n",
       "    }\n",
       "</style>\n",
       "<table border=\"1\" class=\"dataframe\">\n",
       "  <thead>\n",
       "    <tr style=\"text-align: right;\">\n",
       "      <th></th>\n",
       "      <th>Renton City, Fairwood, Bryn Mawr &amp; Skyway</th>\n",
       "      <th>Burien, SeaTac, Tukwila Cities &amp; White Center</th>\n",
       "      <th>Federal Way, Des Moines Cities &amp; Vashon Island</th>\n",
       "      <th>Kent City</th>\n",
       "      <th>Auburn City &amp; Lakeland</th>\n",
       "      <th>Maple Valley, Covington &amp; Enumclaw Cities</th>\n",
       "      <th>South King County Total</th>\n",
       "    </tr>\n",
       "  </thead>\n",
       "  <tbody>\n",
       "    <tr>\n",
       "      <th>South King County</th>\n",
       "      <td>50</td>\n",
       "      <td>71</td>\n",
       "      <td>58</td>\n",
       "      <td>76</td>\n",
       "      <td>82</td>\n",
       "      <td>54</td>\n",
       "      <td>391</td>\n",
       "    </tr>\n",
       "  </tbody>\n",
       "</table>\n",
       "</div>"
      ],
      "text/plain": [
       "                   Renton City, Fairwood, Bryn Mawr & Skyway  \\\n",
       "South King County                                         50   \n",
       "\n",
       "                   Burien, SeaTac, Tukwila Cities & White Center   \\\n",
       "South King County                                              71   \n",
       "\n",
       "                   Federal Way, Des Moines Cities & Vashon Island   Kent City  \\\n",
       "South King County                                               58         76   \n",
       "\n",
       "                   Auburn City & Lakeland   \\\n",
       "South King County                       82   \n",
       "\n",
       "                   Maple Valley, Covington & Enumclaw Cities  \\\n",
       "South King County                                         54   \n",
       "\n",
       "                   South King County Total  \n",
       "South King County                      391  "
      ]
     },
     "execution_count": 329,
     "metadata": {},
     "output_type": "execute_result"
    }
   ],
   "source": [
    "skc = {'Renton City, Fairwood, Bryn Mawr & Skyway':[x11610], 'Burien, SeaTac, Tukwila Cities & White Center ':[x11611], 'Federal Way, Des Moines Cities & Vashon Island ':[x11612], 'Kent City':[x11613], 'Auburn City & Lakeland ':[x11614], 'Maple Valley, Covington & Enumclaw Cities':[x11615], 'South King County Total':[skc_total]}\n",
    "skc_x = pd.DataFrame(data=skc, index=['South King County'])\n",
    "skc_x"
   ]
  },
  {
   "cell_type": "code",
   "execution_count": null,
   "metadata": {},
   "outputs": [],
   "source": []
  },
  {
   "cell_type": "markdown",
   "metadata": {},
   "source": [
    "### workers age 29 or younger are the majority of employed people, what are a few of the industries "
   ]
  },
  {
   "cell_type": "code",
   "execution_count": 330,
   "metadata": {},
   "outputs": [
    {
     "data": {
      "text/html": [
       "<div>\n",
       "<style scoped>\n",
       "    .dataframe tbody tr th:only-of-type {\n",
       "        vertical-align: middle;\n",
       "    }\n",
       "\n",
       "    .dataframe tbody tr th {\n",
       "        vertical-align: top;\n",
       "    }\n",
       "\n",
       "    .dataframe thead th {\n",
       "        text-align: right;\n",
       "    }\n",
       "</style>\n",
       "<table border=\"1\" class=\"dataframe\">\n",
       "  <thead>\n",
       "    <tr style=\"text-align: right;\">\n",
       "      <th></th>\n",
       "      <th>ca01</th>\n",
       "      <th>cns01</th>\n",
       "      <th>cns02</th>\n",
       "      <th>cns03</th>\n",
       "      <th>cns04</th>\n",
       "      <th>cns05</th>\n",
       "      <th>cns06</th>\n",
       "      <th>cns07</th>\n",
       "      <th>cns08</th>\n",
       "      <th>cns09</th>\n",
       "      <th>cns10</th>\n",
       "      <th>cns11</th>\n",
       "      <th>cns12</th>\n",
       "      <th>cns14</th>\n",
       "      <th>cns15</th>\n",
       "      <th>cns16</th>\n",
       "      <th>cns17</th>\n",
       "      <th>cns18</th>\n",
       "      <th>cns19</th>\n",
       "      <th>cns20</th>\n",
       "    </tr>\n",
       "  </thead>\n",
       "  <tbody>\n",
       "    <tr>\n",
       "      <th>0</th>\n",
       "      <td>54</td>\n",
       "      <td>1</td>\n",
       "      <td>0</td>\n",
       "      <td>0</td>\n",
       "      <td>0</td>\n",
       "      <td>0</td>\n",
       "      <td>0</td>\n",
       "      <td>8</td>\n",
       "      <td>0</td>\n",
       "      <td>0</td>\n",
       "      <td>0</td>\n",
       "      <td>0</td>\n",
       "      <td>0</td>\n",
       "      <td>0</td>\n",
       "      <td>0</td>\n",
       "      <td>0</td>\n",
       "      <td>0</td>\n",
       "      <td>82</td>\n",
       "      <td>0</td>\n",
       "      <td>0</td>\n",
       "    </tr>\n",
       "    <tr>\n",
       "      <th>1</th>\n",
       "      <td>83</td>\n",
       "      <td>0</td>\n",
       "      <td>0</td>\n",
       "      <td>0</td>\n",
       "      <td>1</td>\n",
       "      <td>0</td>\n",
       "      <td>0</td>\n",
       "      <td>0</td>\n",
       "      <td>4</td>\n",
       "      <td>0</td>\n",
       "      <td>0</td>\n",
       "      <td>0</td>\n",
       "      <td>0</td>\n",
       "      <td>0</td>\n",
       "      <td>356</td>\n",
       "      <td>0</td>\n",
       "      <td>0</td>\n",
       "      <td>0</td>\n",
       "      <td>0</td>\n",
       "      <td>0</td>\n",
       "    </tr>\n",
       "    <tr>\n",
       "      <th>2</th>\n",
       "      <td>72</td>\n",
       "      <td>385</td>\n",
       "      <td>0</td>\n",
       "      <td>0</td>\n",
       "      <td>0</td>\n",
       "      <td>0</td>\n",
       "      <td>0</td>\n",
       "      <td>0</td>\n",
       "      <td>0</td>\n",
       "      <td>0</td>\n",
       "      <td>0</td>\n",
       "      <td>9</td>\n",
       "      <td>0</td>\n",
       "      <td>0</td>\n",
       "      <td>0</td>\n",
       "      <td>0</td>\n",
       "      <td>0</td>\n",
       "      <td>0</td>\n",
       "      <td>0</td>\n",
       "      <td>0</td>\n",
       "    </tr>\n",
       "    <tr>\n",
       "      <th>3</th>\n",
       "      <td>42</td>\n",
       "      <td>0</td>\n",
       "      <td>0</td>\n",
       "      <td>0</td>\n",
       "      <td>0</td>\n",
       "      <td>0</td>\n",
       "      <td>0</td>\n",
       "      <td>0</td>\n",
       "      <td>0</td>\n",
       "      <td>0</td>\n",
       "      <td>0</td>\n",
       "      <td>0</td>\n",
       "      <td>0</td>\n",
       "      <td>0</td>\n",
       "      <td>0</td>\n",
       "      <td>186</td>\n",
       "      <td>0</td>\n",
       "      <td>0</td>\n",
       "      <td>0</td>\n",
       "      <td>0</td>\n",
       "    </tr>\n",
       "    <tr>\n",
       "      <th>4</th>\n",
       "      <td>87</td>\n",
       "      <td>0</td>\n",
       "      <td>0</td>\n",
       "      <td>0</td>\n",
       "      <td>0</td>\n",
       "      <td>0</td>\n",
       "      <td>0</td>\n",
       "      <td>248</td>\n",
       "      <td>0</td>\n",
       "      <td>0</td>\n",
       "      <td>0</td>\n",
       "      <td>0</td>\n",
       "      <td>0</td>\n",
       "      <td>0</td>\n",
       "      <td>0</td>\n",
       "      <td>0</td>\n",
       "      <td>0</td>\n",
       "      <td>6</td>\n",
       "      <td>0</td>\n",
       "      <td>0</td>\n",
       "    </tr>\n",
       "  </tbody>\n",
       "</table>\n",
       "</div>"
      ],
      "text/plain": [
       "   ca01  cns01  cns02  cns03  cns04  cns05  cns06  cns07  cns08  cns09  cns10  \\\n",
       "0    54      1      0      0      0      0      0      8      0      0      0   \n",
       "1    83      0      0      0      1      0      0      0      4      0      0   \n",
       "2    72    385      0      0      0      0      0      0      0      0      0   \n",
       "3    42      0      0      0      0      0      0      0      0      0      0   \n",
       "4    87      0      0      0      0      0      0    248      0      0      0   \n",
       "\n",
       "   cns11  cns12  cns14  cns15  cns16  cns17  cns18  cns19  cns20  \n",
       "0      0      0      0      0      0      0     82      0      0  \n",
       "1      0      0      0    356      0      0      0      0      0  \n",
       "2      9      0      0      0      0      0      0      0      0  \n",
       "3      0      0      0      0    186      0      0      0      0  \n",
       "4      0      0      0      0      0      0      6      0      0  "
      ]
     },
     "execution_count": 330,
     "metadata": {},
     "output_type": "execute_result"
    }
   ],
   "source": [
    "## imported csv file from sql\n",
    "# selected columns CNS01(population under 29) and all range of industries from cns01 up to cns20\n",
    "jobs = pd.read_csv('/Users/marwankalo/Documents/Data_Science/Project_Mod_1/opportunity_youth/data/processed/jobs u 29.csv')\n",
    "jobs.head()\n"
   ]
  },
  {
   "cell_type": "code",
   "execution_count": 331,
   "metadata": {},
   "outputs": [
    {
     "data": {
      "text/html": [
       "<div>\n",
       "<style scoped>\n",
       "    .dataframe tbody tr th:only-of-type {\n",
       "        vertical-align: middle;\n",
       "    }\n",
       "\n",
       "    .dataframe tbody tr th {\n",
       "        vertical-align: top;\n",
       "    }\n",
       "\n",
       "    .dataframe thead th {\n",
       "        text-align: right;\n",
       "    }\n",
       "</style>\n",
       "<table border=\"1\" class=\"dataframe\">\n",
       "  <thead>\n",
       "    <tr style=\"text-align: right;\">\n",
       "      <th></th>\n",
       "      <th>cns01</th>\n",
       "      <th>cns02</th>\n",
       "      <th>cns03</th>\n",
       "      <th>cns04</th>\n",
       "      <th>cns05</th>\n",
       "      <th>cns06</th>\n",
       "      <th>cns07</th>\n",
       "      <th>cns08</th>\n",
       "      <th>cns09</th>\n",
       "      <th>cns10</th>\n",
       "      <th>cns11</th>\n",
       "      <th>cns12</th>\n",
       "      <th>cns14</th>\n",
       "      <th>cns15</th>\n",
       "      <th>cns16</th>\n",
       "      <th>cns17</th>\n",
       "      <th>cns18</th>\n",
       "      <th>cns19</th>\n",
       "      <th>cns20</th>\n",
       "    </tr>\n",
       "  </thead>\n",
       "  <tbody>\n",
       "    <tr>\n",
       "      <th>0</th>\n",
       "      <td>1</td>\n",
       "      <td>0</td>\n",
       "      <td>0</td>\n",
       "      <td>0</td>\n",
       "      <td>0</td>\n",
       "      <td>0</td>\n",
       "      <td>8</td>\n",
       "      <td>0</td>\n",
       "      <td>0</td>\n",
       "      <td>0</td>\n",
       "      <td>0</td>\n",
       "      <td>0</td>\n",
       "      <td>0</td>\n",
       "      <td>0</td>\n",
       "      <td>0</td>\n",
       "      <td>0</td>\n",
       "      <td>82</td>\n",
       "      <td>0</td>\n",
       "      <td>0</td>\n",
       "    </tr>\n",
       "    <tr>\n",
       "      <th>1</th>\n",
       "      <td>0</td>\n",
       "      <td>0</td>\n",
       "      <td>0</td>\n",
       "      <td>1</td>\n",
       "      <td>0</td>\n",
       "      <td>0</td>\n",
       "      <td>0</td>\n",
       "      <td>4</td>\n",
       "      <td>0</td>\n",
       "      <td>0</td>\n",
       "      <td>0</td>\n",
       "      <td>0</td>\n",
       "      <td>0</td>\n",
       "      <td>356</td>\n",
       "      <td>0</td>\n",
       "      <td>0</td>\n",
       "      <td>0</td>\n",
       "      <td>0</td>\n",
       "      <td>0</td>\n",
       "    </tr>\n",
       "    <tr>\n",
       "      <th>2</th>\n",
       "      <td>385</td>\n",
       "      <td>0</td>\n",
       "      <td>0</td>\n",
       "      <td>0</td>\n",
       "      <td>0</td>\n",
       "      <td>0</td>\n",
       "      <td>0</td>\n",
       "      <td>0</td>\n",
       "      <td>0</td>\n",
       "      <td>0</td>\n",
       "      <td>9</td>\n",
       "      <td>0</td>\n",
       "      <td>0</td>\n",
       "      <td>0</td>\n",
       "      <td>0</td>\n",
       "      <td>0</td>\n",
       "      <td>0</td>\n",
       "      <td>0</td>\n",
       "      <td>0</td>\n",
       "    </tr>\n",
       "    <tr>\n",
       "      <th>3</th>\n",
       "      <td>0</td>\n",
       "      <td>0</td>\n",
       "      <td>0</td>\n",
       "      <td>0</td>\n",
       "      <td>0</td>\n",
       "      <td>0</td>\n",
       "      <td>0</td>\n",
       "      <td>0</td>\n",
       "      <td>0</td>\n",
       "      <td>0</td>\n",
       "      <td>0</td>\n",
       "      <td>0</td>\n",
       "      <td>0</td>\n",
       "      <td>0</td>\n",
       "      <td>186</td>\n",
       "      <td>0</td>\n",
       "      <td>0</td>\n",
       "      <td>0</td>\n",
       "      <td>0</td>\n",
       "    </tr>\n",
       "    <tr>\n",
       "      <th>4</th>\n",
       "      <td>0</td>\n",
       "      <td>0</td>\n",
       "      <td>0</td>\n",
       "      <td>0</td>\n",
       "      <td>0</td>\n",
       "      <td>0</td>\n",
       "      <td>248</td>\n",
       "      <td>0</td>\n",
       "      <td>0</td>\n",
       "      <td>0</td>\n",
       "      <td>0</td>\n",
       "      <td>0</td>\n",
       "      <td>0</td>\n",
       "      <td>0</td>\n",
       "      <td>0</td>\n",
       "      <td>0</td>\n",
       "      <td>6</td>\n",
       "      <td>0</td>\n",
       "      <td>0</td>\n",
       "    </tr>\n",
       "  </tbody>\n",
       "</table>\n",
       "</div>"
      ],
      "text/plain": [
       "   cns01  cns02  cns03  cns04  cns05  cns06  cns07  cns08  cns09  cns10  \\\n",
       "0      1      0      0      0      0      0      8      0      0      0   \n",
       "1      0      0      0      1      0      0      0      4      0      0   \n",
       "2    385      0      0      0      0      0      0      0      0      0   \n",
       "3      0      0      0      0      0      0      0      0      0      0   \n",
       "4      0      0      0      0      0      0    248      0      0      0   \n",
       "\n",
       "   cns11  cns12  cns14  cns15  cns16  cns17  cns18  cns19  cns20  \n",
       "0      0      0      0      0      0      0     82      0      0  \n",
       "1      0      0      0    356      0      0      0      0      0  \n",
       "2      9      0      0      0      0      0      0      0      0  \n",
       "3      0      0      0      0    186      0      0      0      0  \n",
       "4      0      0      0      0      0      0      6      0      0  "
      ]
     },
     "execution_count": 331,
     "metadata": {},
     "output_type": "execute_result"
    }
   ],
   "source": [
    "# selected all ranges of industires\n",
    "job = jobs.loc[:,'cns01':'cns20']\n",
    "job.head()"
   ]
  },
  {
   "cell_type": "code",
   "execution_count": 332,
   "metadata": {},
   "outputs": [
    {
     "data": {
      "text/html": [
       "<div>\n",
       "<style scoped>\n",
       "    .dataframe tbody tr th:only-of-type {\n",
       "        vertical-align: middle;\n",
       "    }\n",
       "\n",
       "    .dataframe tbody tr th {\n",
       "        vertical-align: top;\n",
       "    }\n",
       "\n",
       "    .dataframe thead th {\n",
       "        text-align: right;\n",
       "    }\n",
       "</style>\n",
       "<table border=\"1\" class=\"dataframe\">\n",
       "  <thead>\n",
       "    <tr style=\"text-align: right;\">\n",
       "      <th></th>\n",
       "      <th>cns01</th>\n",
       "      <th>cns02</th>\n",
       "      <th>cns03</th>\n",
       "      <th>cns04</th>\n",
       "      <th>cns05</th>\n",
       "      <th>cns06</th>\n",
       "      <th>cns07</th>\n",
       "      <th>cns08</th>\n",
       "      <th>cns09</th>\n",
       "      <th>cns10</th>\n",
       "      <th>cns11</th>\n",
       "      <th>cns12</th>\n",
       "      <th>cns14</th>\n",
       "      <th>cns15</th>\n",
       "      <th>cns16</th>\n",
       "      <th>cns17</th>\n",
       "      <th>cns18</th>\n",
       "      <th>cns19</th>\n",
       "      <th>cns20</th>\n",
       "      <th>sum</th>\n",
       "    </tr>\n",
       "  </thead>\n",
       "  <tbody>\n",
       "    <tr>\n",
       "      <th>0</th>\n",
       "      <td>1</td>\n",
       "      <td>0</td>\n",
       "      <td>0</td>\n",
       "      <td>0</td>\n",
       "      <td>0</td>\n",
       "      <td>0</td>\n",
       "      <td>8</td>\n",
       "      <td>0</td>\n",
       "      <td>0</td>\n",
       "      <td>0</td>\n",
       "      <td>0</td>\n",
       "      <td>0</td>\n",
       "      <td>0</td>\n",
       "      <td>0</td>\n",
       "      <td>0</td>\n",
       "      <td>0</td>\n",
       "      <td>82</td>\n",
       "      <td>0</td>\n",
       "      <td>0</td>\n",
       "      <td>91</td>\n",
       "    </tr>\n",
       "    <tr>\n",
       "      <th>1</th>\n",
       "      <td>0</td>\n",
       "      <td>0</td>\n",
       "      <td>0</td>\n",
       "      <td>1</td>\n",
       "      <td>0</td>\n",
       "      <td>0</td>\n",
       "      <td>0</td>\n",
       "      <td>4</td>\n",
       "      <td>0</td>\n",
       "      <td>0</td>\n",
       "      <td>0</td>\n",
       "      <td>0</td>\n",
       "      <td>0</td>\n",
       "      <td>356</td>\n",
       "      <td>0</td>\n",
       "      <td>0</td>\n",
       "      <td>0</td>\n",
       "      <td>0</td>\n",
       "      <td>0</td>\n",
       "      <td>361</td>\n",
       "    </tr>\n",
       "    <tr>\n",
       "      <th>2</th>\n",
       "      <td>385</td>\n",
       "      <td>0</td>\n",
       "      <td>0</td>\n",
       "      <td>0</td>\n",
       "      <td>0</td>\n",
       "      <td>0</td>\n",
       "      <td>0</td>\n",
       "      <td>0</td>\n",
       "      <td>0</td>\n",
       "      <td>0</td>\n",
       "      <td>9</td>\n",
       "      <td>0</td>\n",
       "      <td>0</td>\n",
       "      <td>0</td>\n",
       "      <td>0</td>\n",
       "      <td>0</td>\n",
       "      <td>0</td>\n",
       "      <td>0</td>\n",
       "      <td>0</td>\n",
       "      <td>394</td>\n",
       "    </tr>\n",
       "    <tr>\n",
       "      <th>3</th>\n",
       "      <td>0</td>\n",
       "      <td>0</td>\n",
       "      <td>0</td>\n",
       "      <td>0</td>\n",
       "      <td>0</td>\n",
       "      <td>0</td>\n",
       "      <td>0</td>\n",
       "      <td>0</td>\n",
       "      <td>0</td>\n",
       "      <td>0</td>\n",
       "      <td>0</td>\n",
       "      <td>0</td>\n",
       "      <td>0</td>\n",
       "      <td>0</td>\n",
       "      <td>186</td>\n",
       "      <td>0</td>\n",
       "      <td>0</td>\n",
       "      <td>0</td>\n",
       "      <td>0</td>\n",
       "      <td>186</td>\n",
       "    </tr>\n",
       "    <tr>\n",
       "      <th>4</th>\n",
       "      <td>0</td>\n",
       "      <td>0</td>\n",
       "      <td>0</td>\n",
       "      <td>0</td>\n",
       "      <td>0</td>\n",
       "      <td>0</td>\n",
       "      <td>248</td>\n",
       "      <td>0</td>\n",
       "      <td>0</td>\n",
       "      <td>0</td>\n",
       "      <td>0</td>\n",
       "      <td>0</td>\n",
       "      <td>0</td>\n",
       "      <td>0</td>\n",
       "      <td>0</td>\n",
       "      <td>0</td>\n",
       "      <td>6</td>\n",
       "      <td>0</td>\n",
       "      <td>0</td>\n",
       "      <td>254</td>\n",
       "    </tr>\n",
       "  </tbody>\n",
       "</table>\n",
       "</div>"
      ],
      "text/plain": [
       "   cns01  cns02  cns03  cns04  cns05  cns06  cns07  cns08  cns09  cns10  \\\n",
       "0      1      0      0      0      0      0      8      0      0      0   \n",
       "1      0      0      0      1      0      0      0      4      0      0   \n",
       "2    385      0      0      0      0      0      0      0      0      0   \n",
       "3      0      0      0      0      0      0      0      0      0      0   \n",
       "4      0      0      0      0      0      0    248      0      0      0   \n",
       "\n",
       "   cns11  cns12  cns14  cns15  cns16  cns17  cns18  cns19  cns20  sum  \n",
       "0      0      0      0      0      0      0     82      0      0   91  \n",
       "1      0      0      0    356      0      0      0      0      0  361  \n",
       "2      9      0      0      0      0      0      0      0      0  394  \n",
       "3      0      0      0      0    186      0      0      0      0  186  \n",
       "4      0      0      0      0      0      0      6      0      0  254  "
      ]
     },
     "execution_count": 332,
     "metadata": {},
     "output_type": "execute_result"
    }
   ],
   "source": [
    "# created a new column, with the percentage of population under 29 in the employed people\n",
    "job['sum'] = job.sum(axis=1)\n",
    "job.head()"
   ]
  },
  {
   "cell_type": "code",
   "execution_count": 333,
   "metadata": {},
   "outputs": [],
   "source": [
    "# we delimited our output between 70 and 100 per cent\n",
    "# we filtered the values, looking for high number of workers under 29 with high percentages of employment\n",
    "jobs['per'] = (jobs['ca01']*100)/ job['sum']"
   ]
  },
  {
   "cell_type": "code",
   "execution_count": 334,
   "metadata": {
    "scrolled": true
   },
   "outputs": [
    {
     "data": {
      "text/html": [
       "<div>\n",
       "<style scoped>\n",
       "    .dataframe tbody tr th:only-of-type {\n",
       "        vertical-align: middle;\n",
       "    }\n",
       "\n",
       "    .dataframe tbody tr th {\n",
       "        vertical-align: top;\n",
       "    }\n",
       "\n",
       "    .dataframe thead th {\n",
       "        text-align: right;\n",
       "    }\n",
       "</style>\n",
       "<table border=\"1\" class=\"dataframe\">\n",
       "  <thead>\n",
       "    <tr style=\"text-align: right;\">\n",
       "      <th></th>\n",
       "      <th>ca01</th>\n",
       "      <th>cns01</th>\n",
       "      <th>cns02</th>\n",
       "      <th>cns03</th>\n",
       "      <th>cns04</th>\n",
       "      <th>cns05</th>\n",
       "      <th>cns06</th>\n",
       "      <th>cns07</th>\n",
       "      <th>cns08</th>\n",
       "      <th>cns09</th>\n",
       "      <th>...</th>\n",
       "      <th>cns11</th>\n",
       "      <th>cns12</th>\n",
       "      <th>cns14</th>\n",
       "      <th>cns15</th>\n",
       "      <th>cns16</th>\n",
       "      <th>cns17</th>\n",
       "      <th>cns18</th>\n",
       "      <th>cns19</th>\n",
       "      <th>cns20</th>\n",
       "      <th>per</th>\n",
       "    </tr>\n",
       "  </thead>\n",
       "  <tbody>\n",
       "    <tr>\n",
       "      <th>0</th>\n",
       "      <td>54</td>\n",
       "      <td>1</td>\n",
       "      <td>0</td>\n",
       "      <td>0</td>\n",
       "      <td>0</td>\n",
       "      <td>0</td>\n",
       "      <td>0</td>\n",
       "      <td>8</td>\n",
       "      <td>0</td>\n",
       "      <td>0</td>\n",
       "      <td>...</td>\n",
       "      <td>0</td>\n",
       "      <td>0</td>\n",
       "      <td>0</td>\n",
       "      <td>0</td>\n",
       "      <td>0</td>\n",
       "      <td>0</td>\n",
       "      <td>82</td>\n",
       "      <td>0</td>\n",
       "      <td>0</td>\n",
       "      <td>59.340659</td>\n",
       "    </tr>\n",
       "    <tr>\n",
       "      <th>7</th>\n",
       "      <td>123</td>\n",
       "      <td>0</td>\n",
       "      <td>0</td>\n",
       "      <td>0</td>\n",
       "      <td>0</td>\n",
       "      <td>0</td>\n",
       "      <td>0</td>\n",
       "      <td>0</td>\n",
       "      <td>0</td>\n",
       "      <td>0</td>\n",
       "      <td>...</td>\n",
       "      <td>0</td>\n",
       "      <td>3</td>\n",
       "      <td>0</td>\n",
       "      <td>0</td>\n",
       "      <td>296</td>\n",
       "      <td>0</td>\n",
       "      <td>0</td>\n",
       "      <td>0</td>\n",
       "      <td>0</td>\n",
       "      <td>41.137124</td>\n",
       "    </tr>\n",
       "    <tr>\n",
       "      <th>11</th>\n",
       "      <td>55</td>\n",
       "      <td>0</td>\n",
       "      <td>0</td>\n",
       "      <td>0</td>\n",
       "      <td>13</td>\n",
       "      <td>0</td>\n",
       "      <td>0</td>\n",
       "      <td>34</td>\n",
       "      <td>0</td>\n",
       "      <td>0</td>\n",
       "      <td>...</td>\n",
       "      <td>0</td>\n",
       "      <td>2</td>\n",
       "      <td>0</td>\n",
       "      <td>0</td>\n",
       "      <td>9</td>\n",
       "      <td>59</td>\n",
       "      <td>0</td>\n",
       "      <td>3</td>\n",
       "      <td>0</td>\n",
       "      <td>45.833333</td>\n",
       "    </tr>\n",
       "    <tr>\n",
       "      <th>13</th>\n",
       "      <td>38</td>\n",
       "      <td>0</td>\n",
       "      <td>0</td>\n",
       "      <td>0</td>\n",
       "      <td>0</td>\n",
       "      <td>0</td>\n",
       "      <td>0</td>\n",
       "      <td>0</td>\n",
       "      <td>0</td>\n",
       "      <td>0</td>\n",
       "      <td>...</td>\n",
       "      <td>0</td>\n",
       "      <td>0</td>\n",
       "      <td>0</td>\n",
       "      <td>0</td>\n",
       "      <td>0</td>\n",
       "      <td>0</td>\n",
       "      <td>56</td>\n",
       "      <td>0</td>\n",
       "      <td>0</td>\n",
       "      <td>67.857143</td>\n",
       "    </tr>\n",
       "    <tr>\n",
       "      <th>14</th>\n",
       "      <td>181</td>\n",
       "      <td>0</td>\n",
       "      <td>0</td>\n",
       "      <td>0</td>\n",
       "      <td>0</td>\n",
       "      <td>0</td>\n",
       "      <td>0</td>\n",
       "      <td>393</td>\n",
       "      <td>0</td>\n",
       "      <td>0</td>\n",
       "      <td>...</td>\n",
       "      <td>0</td>\n",
       "      <td>0</td>\n",
       "      <td>0</td>\n",
       "      <td>0</td>\n",
       "      <td>9</td>\n",
       "      <td>0</td>\n",
       "      <td>0</td>\n",
       "      <td>0</td>\n",
       "      <td>0</td>\n",
       "      <td>45.024876</td>\n",
       "    </tr>\n",
       "    <tr>\n",
       "      <th>...</th>\n",
       "      <td>...</td>\n",
       "      <td>...</td>\n",
       "      <td>...</td>\n",
       "      <td>...</td>\n",
       "      <td>...</td>\n",
       "      <td>...</td>\n",
       "      <td>...</td>\n",
       "      <td>...</td>\n",
       "      <td>...</td>\n",
       "      <td>...</td>\n",
       "      <td>...</td>\n",
       "      <td>...</td>\n",
       "      <td>...</td>\n",
       "      <td>...</td>\n",
       "      <td>...</td>\n",
       "      <td>...</td>\n",
       "      <td>...</td>\n",
       "      <td>...</td>\n",
       "      <td>...</td>\n",
       "      <td>...</td>\n",
       "      <td>...</td>\n",
       "    </tr>\n",
       "    <tr>\n",
       "      <th>4984</th>\n",
       "      <td>31</td>\n",
       "      <td>0</td>\n",
       "      <td>0</td>\n",
       "      <td>0</td>\n",
       "      <td>1</td>\n",
       "      <td>0</td>\n",
       "      <td>0</td>\n",
       "      <td>0</td>\n",
       "      <td>0</td>\n",
       "      <td>0</td>\n",
       "      <td>...</td>\n",
       "      <td>0</td>\n",
       "      <td>0</td>\n",
       "      <td>0</td>\n",
       "      <td>0</td>\n",
       "      <td>0</td>\n",
       "      <td>0</td>\n",
       "      <td>39</td>\n",
       "      <td>0</td>\n",
       "      <td>0</td>\n",
       "      <td>70.454545</td>\n",
       "    </tr>\n",
       "    <tr>\n",
       "      <th>4996</th>\n",
       "      <td>74</td>\n",
       "      <td>0</td>\n",
       "      <td>0</td>\n",
       "      <td>0</td>\n",
       "      <td>0</td>\n",
       "      <td>0</td>\n",
       "      <td>0</td>\n",
       "      <td>0</td>\n",
       "      <td>0</td>\n",
       "      <td>0</td>\n",
       "      <td>...</td>\n",
       "      <td>0</td>\n",
       "      <td>0</td>\n",
       "      <td>0</td>\n",
       "      <td>137</td>\n",
       "      <td>0</td>\n",
       "      <td>0</td>\n",
       "      <td>3</td>\n",
       "      <td>0</td>\n",
       "      <td>0</td>\n",
       "      <td>52.857143</td>\n",
       "    </tr>\n",
       "    <tr>\n",
       "      <th>5000</th>\n",
       "      <td>41</td>\n",
       "      <td>0</td>\n",
       "      <td>0</td>\n",
       "      <td>0</td>\n",
       "      <td>0</td>\n",
       "      <td>0</td>\n",
       "      <td>0</td>\n",
       "      <td>87</td>\n",
       "      <td>0</td>\n",
       "      <td>0</td>\n",
       "      <td>...</td>\n",
       "      <td>0</td>\n",
       "      <td>0</td>\n",
       "      <td>0</td>\n",
       "      <td>0</td>\n",
       "      <td>3</td>\n",
       "      <td>0</td>\n",
       "      <td>0</td>\n",
       "      <td>0</td>\n",
       "      <td>0</td>\n",
       "      <td>45.555556</td>\n",
       "    </tr>\n",
       "    <tr>\n",
       "      <th>5001</th>\n",
       "      <td>90</td>\n",
       "      <td>0</td>\n",
       "      <td>0</td>\n",
       "      <td>0</td>\n",
       "      <td>0</td>\n",
       "      <td>0</td>\n",
       "      <td>0</td>\n",
       "      <td>0</td>\n",
       "      <td>0</td>\n",
       "      <td>0</td>\n",
       "      <td>...</td>\n",
       "      <td>0</td>\n",
       "      <td>0</td>\n",
       "      <td>0</td>\n",
       "      <td>0</td>\n",
       "      <td>125</td>\n",
       "      <td>0</td>\n",
       "      <td>94</td>\n",
       "      <td>0</td>\n",
       "      <td>0</td>\n",
       "      <td>41.095890</td>\n",
       "    </tr>\n",
       "    <tr>\n",
       "      <th>5002</th>\n",
       "      <td>77</td>\n",
       "      <td>0</td>\n",
       "      <td>0</td>\n",
       "      <td>0</td>\n",
       "      <td>2</td>\n",
       "      <td>0</td>\n",
       "      <td>0</td>\n",
       "      <td>81</td>\n",
       "      <td>0</td>\n",
       "      <td>0</td>\n",
       "      <td>...</td>\n",
       "      <td>0</td>\n",
       "      <td>1</td>\n",
       "      <td>0</td>\n",
       "      <td>0</td>\n",
       "      <td>0</td>\n",
       "      <td>0</td>\n",
       "      <td>66</td>\n",
       "      <td>1</td>\n",
       "      <td>0</td>\n",
       "      <td>50.326797</td>\n",
       "    </tr>\n",
       "  </tbody>\n",
       "</table>\n",
       "<p>1417 rows × 21 columns</p>\n",
       "</div>"
      ],
      "text/plain": [
       "      ca01  cns01  cns02  cns03  cns04  cns05  cns06  cns07  cns08  cns09  \\\n",
       "0       54      1      0      0      0      0      0      8      0      0   \n",
       "7      123      0      0      0      0      0      0      0      0      0   \n",
       "11      55      0      0      0     13      0      0     34      0      0   \n",
       "13      38      0      0      0      0      0      0      0      0      0   \n",
       "14     181      0      0      0      0      0      0    393      0      0   \n",
       "...    ...    ...    ...    ...    ...    ...    ...    ...    ...    ...   \n",
       "4984    31      0      0      0      1      0      0      0      0      0   \n",
       "4996    74      0      0      0      0      0      0      0      0      0   \n",
       "5000    41      0      0      0      0      0      0     87      0      0   \n",
       "5001    90      0      0      0      0      0      0      0      0      0   \n",
       "5002    77      0      0      0      2      0      0     81      0      0   \n",
       "\n",
       "      ...  cns11  cns12  cns14  cns15  cns16  cns17  cns18  cns19  cns20  \\\n",
       "0     ...      0      0      0      0      0      0     82      0      0   \n",
       "7     ...      0      3      0      0    296      0      0      0      0   \n",
       "11    ...      0      2      0      0      9     59      0      3      0   \n",
       "13    ...      0      0      0      0      0      0     56      0      0   \n",
       "14    ...      0      0      0      0      9      0      0      0      0   \n",
       "...   ...    ...    ...    ...    ...    ...    ...    ...    ...    ...   \n",
       "4984  ...      0      0      0      0      0      0     39      0      0   \n",
       "4996  ...      0      0      0    137      0      0      3      0      0   \n",
       "5000  ...      0      0      0      0      3      0      0      0      0   \n",
       "5001  ...      0      0      0      0    125      0     94      0      0   \n",
       "5002  ...      0      1      0      0      0      0     66      1      0   \n",
       "\n",
       "            per  \n",
       "0     59.340659  \n",
       "7     41.137124  \n",
       "11    45.833333  \n",
       "13    67.857143  \n",
       "14    45.024876  \n",
       "...         ...  \n",
       "4984  70.454545  \n",
       "4996  52.857143  \n",
       "5000  45.555556  \n",
       "5001  41.095890  \n",
       "5002  50.326797  \n",
       "\n",
       "[1417 rows x 21 columns]"
      ]
     },
     "execution_count": 334,
     "metadata": {},
     "output_type": "execute_result"
    }
   ],
   "source": [
    "sel = jobs.loc[jobs['per']>40]\n",
    "sel\n"
   ]
  },
  {
   "cell_type": "markdown",
   "metadata": {},
   "source": [
    "### Comparison with 2016 Data"
   ]
  },
  {
   "cell_type": "code",
   "execution_count": 335,
   "metadata": {},
   "outputs": [],
   "source": [
    "xls = pd.ExcelFile('/Users/marwankalo/Documents/Data_Science/Project_Mod_1/opportunity_youth/data/raw/2016_5_year_table.xlsx')\n",
    "Data_2016 = pd.read_excel(xls, 'Sheet1')\n",
    "Data_2016_OY = pd.read_excel(xls, 'Sheet2')"
   ]
  },
  {
   "cell_type": "code",
   "execution_count": 336,
   "metadata": {},
   "outputs": [],
   "source": [
    "Data_2016.set_index('-', inplace=True)"
   ]
  },
  {
   "cell_type": "code",
   "execution_count": 337,
   "metadata": {},
   "outputs": [
    {
     "data": {
      "text/html": [
       "<div>\n",
       "<style scoped>\n",
       "    .dataframe tbody tr th:only-of-type {\n",
       "        vertical-align: middle;\n",
       "    }\n",
       "\n",
       "    .dataframe tbody tr th {\n",
       "        vertical-align: top;\n",
       "    }\n",
       "\n",
       "    .dataframe thead th {\n",
       "        text-align: right;\n",
       "    }\n",
       "</style>\n",
       "<table border=\"1\" class=\"dataframe\">\n",
       "  <thead>\n",
       "    <tr style=\"text-align: right;\">\n",
       "      <th></th>\n",
       "      <th>16-18 (%)</th>\n",
       "      <th>16-18</th>\n",
       "      <th>19-21 (%)</th>\n",
       "      <th>19-21</th>\n",
       "      <th>22-24 (%)</th>\n",
       "      <th>22-24</th>\n",
       "      <th>Totals (%)</th>\n",
       "      <th>Totals</th>\n",
       "    </tr>\n",
       "    <tr>\n",
       "      <th>-</th>\n",
       "      <th></th>\n",
       "      <th></th>\n",
       "      <th></th>\n",
       "      <th></th>\n",
       "      <th></th>\n",
       "      <th></th>\n",
       "      <th></th>\n",
       "      <th></th>\n",
       "    </tr>\n",
       "  </thead>\n",
       "  <tbody>\n",
       "    <tr>\n",
       "      <th>Total Population</th>\n",
       "      <td>1.000000</td>\n",
       "      <td>50053</td>\n",
       "      <td>1.000000</td>\n",
       "      <td>41651</td>\n",
       "      <td>1.000000</td>\n",
       "      <td>48031</td>\n",
       "      <td>1.000000</td>\n",
       "      <td>139735</td>\n",
       "    </tr>\n",
       "    <tr>\n",
       "      <th>Opportunity Youth</th>\n",
       "      <td>0.056041</td>\n",
       "      <td>2805</td>\n",
       "      <td>0.174882</td>\n",
       "      <td>7284</td>\n",
       "      <td>0.181716</td>\n",
       "      <td>8728</td>\n",
       "      <td>0.134662</td>\n",
       "      <td>18817</td>\n",
       "    </tr>\n",
       "    <tr>\n",
       "      <th>Working without Diploma</th>\n",
       "      <td>0.011728</td>\n",
       "      <td>587</td>\n",
       "      <td>0.049194</td>\n",
       "      <td>2049</td>\n",
       "      <td>0.059899</td>\n",
       "      <td>2877</td>\n",
       "      <td>0.039453</td>\n",
       "      <td>5513</td>\n",
       "    </tr>\n",
       "    <tr>\n",
       "      <th>Not an Opportunity Youth</th>\n",
       "      <td>0.932232</td>\n",
       "      <td>46661</td>\n",
       "      <td>0.775924</td>\n",
       "      <td>32318</td>\n",
       "      <td>0.758385</td>\n",
       "      <td>36426</td>\n",
       "      <td>0.825885</td>\n",
       "      <td>115405</td>\n",
       "    </tr>\n",
       "  </tbody>\n",
       "</table>\n",
       "</div>"
      ],
      "text/plain": [
       "                          16-18 (%)  16-18  19-21 (%)  19-21  22-24 (%)  \\\n",
       "-                                                                         \n",
       "Total Population           1.000000  50053   1.000000  41651   1.000000   \n",
       "Opportunity Youth          0.056041   2805   0.174882   7284   0.181716   \n",
       "Working without Diploma    0.011728    587   0.049194   2049   0.059899   \n",
       "Not an Opportunity Youth   0.932232  46661   0.775924  32318   0.758385   \n",
       "\n",
       "                          22-24  Totals (%)  Totals  \n",
       "-                                                    \n",
       "Total Population          48031    1.000000  139735  \n",
       "Opportunity Youth          8728    0.134662   18817  \n",
       "Working without Diploma    2877    0.039453    5513  \n",
       "Not an Opportunity Youth  36426    0.825885  115405  "
      ]
     },
     "execution_count": 337,
     "metadata": {},
     "output_type": "execute_result"
    }
   ],
   "source": [
    "Data_2016"
   ]
  },
  {
   "cell_type": "code",
   "execution_count": 338,
   "metadata": {},
   "outputs": [],
   "source": [
    "Data_2016_OY.set_index('-', inplace=True)"
   ]
  },
  {
   "cell_type": "code",
   "execution_count": 339,
   "metadata": {},
   "outputs": [
    {
     "data": {
      "text/html": [
       "<div>\n",
       "<style scoped>\n",
       "    .dataframe tbody tr th:only-of-type {\n",
       "        vertical-align: middle;\n",
       "    }\n",
       "\n",
       "    .dataframe tbody tr th {\n",
       "        vertical-align: top;\n",
       "    }\n",
       "\n",
       "    .dataframe thead th {\n",
       "        text-align: right;\n",
       "    }\n",
       "</style>\n",
       "<table border=\"1\" class=\"dataframe\">\n",
       "  <thead>\n",
       "    <tr style=\"text-align: right;\">\n",
       "      <th></th>\n",
       "      <th>16-18 (%)</th>\n",
       "      <th>16-18</th>\n",
       "      <th>19-21 (%)</th>\n",
       "      <th>19-21</th>\n",
       "      <th>22-24 (%)</th>\n",
       "      <th>22-24</th>\n",
       "      <th>Totals (%)</th>\n",
       "      <th>Totals</th>\n",
       "    </tr>\n",
       "    <tr>\n",
       "      <th>-</th>\n",
       "      <th></th>\n",
       "      <th></th>\n",
       "      <th></th>\n",
       "      <th></th>\n",
       "      <th></th>\n",
       "      <th></th>\n",
       "      <th></th>\n",
       "      <th></th>\n",
       "    </tr>\n",
       "  </thead>\n",
       "  <tbody>\n",
       "    <tr>\n",
       "      <th>Opportunity Youth</th>\n",
       "      <td>1.000000</td>\n",
       "      <td>2805</td>\n",
       "      <td>1.000000</td>\n",
       "      <td>7284</td>\n",
       "      <td>1.000000</td>\n",
       "      <td>8728</td>\n",
       "      <td>1.000000</td>\n",
       "      <td>18817</td>\n",
       "    </tr>\n",
       "    <tr>\n",
       "      <th>No Diploma</th>\n",
       "      <td>0.573975</td>\n",
       "      <td>1610</td>\n",
       "      <td>0.281164</td>\n",
       "      <td>2048</td>\n",
       "      <td>0.226971</td>\n",
       "      <td>1981</td>\n",
       "      <td>0.299676</td>\n",
       "      <td>5639</td>\n",
       "    </tr>\n",
       "    <tr>\n",
       "      <th>HS diploma or GED</th>\n",
       "      <td>0.351159</td>\n",
       "      <td>985</td>\n",
       "      <td>0.459775</td>\n",
       "      <td>3349</td>\n",
       "      <td>0.351398</td>\n",
       "      <td>3067</td>\n",
       "      <td>0.393315</td>\n",
       "      <td>7401</td>\n",
       "    </tr>\n",
       "    <tr>\n",
       "      <th>Some college, no degree</th>\n",
       "      <td>0.063815</td>\n",
       "      <td>179</td>\n",
       "      <td>0.228720</td>\n",
       "      <td>1666</td>\n",
       "      <td>0.201994</td>\n",
       "      <td>1763</td>\n",
       "      <td>0.191742</td>\n",
       "      <td>3608</td>\n",
       "    </tr>\n",
       "    <tr>\n",
       "      <th>Degree (Associate or higher)</th>\n",
       "      <td>0.011052</td>\n",
       "      <td>31</td>\n",
       "      <td>0.030340</td>\n",
       "      <td>221</td>\n",
       "      <td>0.219638</td>\n",
       "      <td>1917</td>\n",
       "      <td>0.115268</td>\n",
       "      <td>2169</td>\n",
       "    </tr>\n",
       "  </tbody>\n",
       "</table>\n",
       "</div>"
      ],
      "text/plain": [
       "                              16-18 (%)  16-18  19-21 (%)  19-21  22-24 (%)  \\\n",
       "-                                                                             \n",
       "Opportunity Youth              1.000000   2805   1.000000   7284   1.000000   \n",
       "No Diploma                     0.573975   1610   0.281164   2048   0.226971   \n",
       "HS diploma or GED              0.351159    985   0.459775   3349   0.351398   \n",
       "Some college, no degree        0.063815    179   0.228720   1666   0.201994   \n",
       "Degree (Associate or higher)   0.011052     31   0.030340    221   0.219638   \n",
       "\n",
       "                              22-24  Totals (%)  Totals  \n",
       "-                                                        \n",
       "Opportunity Youth              8728    1.000000   18817  \n",
       "No Diploma                     1981    0.299676    5639  \n",
       "HS diploma or GED              3067    0.393315    7401  \n",
       "Some college, no degree        1763    0.191742    3608  \n",
       "Degree (Associate or higher)   1917    0.115268    2169  "
      ]
     },
     "execution_count": 339,
     "metadata": {},
     "output_type": "execute_result"
    }
   ],
   "source": [
    "Data_2016_OY"
   ]
  },
  {
   "cell_type": "code",
   "execution_count": 340,
   "metadata": {},
   "outputs": [],
   "source": [
    "xls1 = pd.ExcelFile('/Users/marwankalo/Documents/Data_Science/Project_Mod_1/opportunity_youth/data/processed/2017_OY_Data.xlsx')\n",
    "Data_2017 = pd.read_excel(xls1, 'Sheet1')\n",
    "Data_2017_OY = pd.read_excel(xls1, 'Sheet2')"
   ]
  },
  {
   "cell_type": "code",
   "execution_count": 341,
   "metadata": {},
   "outputs": [],
   "source": [
    "Data_2017.set_index('-', inplace=True)"
   ]
  },
  {
   "cell_type": "code",
   "execution_count": 342,
   "metadata": {},
   "outputs": [
    {
     "data": {
      "text/html": [
       "<div>\n",
       "<style scoped>\n",
       "    .dataframe tbody tr th:only-of-type {\n",
       "        vertical-align: middle;\n",
       "    }\n",
       "\n",
       "    .dataframe tbody tr th {\n",
       "        vertical-align: top;\n",
       "    }\n",
       "\n",
       "    .dataframe thead th {\n",
       "        text-align: right;\n",
       "    }\n",
       "</style>\n",
       "<table border=\"1\" class=\"dataframe\">\n",
       "  <thead>\n",
       "    <tr style=\"text-align: right;\">\n",
       "      <th></th>\n",
       "      <th>16-18 (%)</th>\n",
       "      <th>16-18</th>\n",
       "      <th>19-21 (%)</th>\n",
       "      <th>19-21</th>\n",
       "      <th>22-24 (%)</th>\n",
       "      <th>22-24</th>\n",
       "      <th>Totals (%)</th>\n",
       "      <th>Totals</th>\n",
       "    </tr>\n",
       "    <tr>\n",
       "      <th>-</th>\n",
       "      <th></th>\n",
       "      <th></th>\n",
       "      <th></th>\n",
       "      <th></th>\n",
       "      <th></th>\n",
       "      <th></th>\n",
       "      <th></th>\n",
       "      <th></th>\n",
       "    </tr>\n",
       "  </thead>\n",
       "  <tbody>\n",
       "    <tr>\n",
       "      <th>Total Population</th>\n",
       "      <td>1.000000</td>\n",
       "      <td>1236</td>\n",
       "      <td>1.000000</td>\n",
       "      <td>1178</td>\n",
       "      <td>1.000000</td>\n",
       "      <td>1464</td>\n",
       "      <td>1.00000</td>\n",
       "      <td>3878</td>\n",
       "    </tr>\n",
       "    <tr>\n",
       "      <th>Opportunity Youth</th>\n",
       "      <td>0.049353</td>\n",
       "      <td>61</td>\n",
       "      <td>0.115450</td>\n",
       "      <td>136</td>\n",
       "      <td>0.118169</td>\n",
       "      <td>173</td>\n",
       "      <td>0.09541</td>\n",
       "      <td>370</td>\n",
       "    </tr>\n",
       "    <tr>\n",
       "      <th>Working without Diploma</th>\n",
       "      <td>0.015372</td>\n",
       "      <td>19</td>\n",
       "      <td>0.101868</td>\n",
       "      <td>120</td>\n",
       "      <td>0.167350</td>\n",
       "      <td>245</td>\n",
       "      <td>0.09902</td>\n",
       "      <td>384</td>\n",
       "    </tr>\n",
       "    <tr>\n",
       "      <th>Not an Opportunity Youth</th>\n",
       "      <td>0.935275</td>\n",
       "      <td>1156</td>\n",
       "      <td>0.782683</td>\n",
       "      <td>922</td>\n",
       "      <td>0.714481</td>\n",
       "      <td>1046</td>\n",
       "      <td>0.80557</td>\n",
       "      <td>3124</td>\n",
       "    </tr>\n",
       "  </tbody>\n",
       "</table>\n",
       "</div>"
      ],
      "text/plain": [
       "                          16-18 (%)  16-18  19-21 (%)  19-21  22-24 (%)  \\\n",
       "-                                                                         \n",
       "Total Population           1.000000   1236   1.000000   1178   1.000000   \n",
       "Opportunity Youth          0.049353     61   0.115450    136   0.118169   \n",
       "Working without Diploma    0.015372     19   0.101868    120   0.167350   \n",
       "Not an Opportunity Youth   0.935275   1156   0.782683    922   0.714481   \n",
       "\n",
       "                          22-24  Totals (%)  Totals  \n",
       "-                                                    \n",
       "Total Population           1464     1.00000    3878  \n",
       "Opportunity Youth           173     0.09541     370  \n",
       "Working without Diploma     245     0.09902     384  \n",
       "Not an Opportunity Youth   1046     0.80557    3124  "
      ]
     },
     "execution_count": 342,
     "metadata": {},
     "output_type": "execute_result"
    }
   ],
   "source": [
    "Data_2017"
   ]
  },
  {
   "cell_type": "code",
   "execution_count": 343,
   "metadata": {},
   "outputs": [],
   "source": [
    "Data_2017_OY.set_index('-', inplace=True)"
   ]
  },
  {
   "cell_type": "code",
   "execution_count": 344,
   "metadata": {},
   "outputs": [
    {
     "data": {
      "text/html": [
       "<div>\n",
       "<style scoped>\n",
       "    .dataframe tbody tr th:only-of-type {\n",
       "        vertical-align: middle;\n",
       "    }\n",
       "\n",
       "    .dataframe tbody tr th {\n",
       "        vertical-align: top;\n",
       "    }\n",
       "\n",
       "    .dataframe thead th {\n",
       "        text-align: right;\n",
       "    }\n",
       "</style>\n",
       "<table border=\"1\" class=\"dataframe\">\n",
       "  <thead>\n",
       "    <tr style=\"text-align: right;\">\n",
       "      <th></th>\n",
       "      <th>16-18 (%)</th>\n",
       "      <th>16-18</th>\n",
       "      <th>19-21 (%)</th>\n",
       "      <th>19-21</th>\n",
       "      <th>22-24 (%)</th>\n",
       "      <th>22-24</th>\n",
       "      <th>Totals (%)</th>\n",
       "      <th>Totals</th>\n",
       "    </tr>\n",
       "    <tr>\n",
       "      <th>-</th>\n",
       "      <th></th>\n",
       "      <th></th>\n",
       "      <th></th>\n",
       "      <th></th>\n",
       "      <th></th>\n",
       "      <th></th>\n",
       "      <th></th>\n",
       "      <th></th>\n",
       "    </tr>\n",
       "  </thead>\n",
       "  <tbody>\n",
       "    <tr>\n",
       "      <th>Opportunity Youth</th>\n",
       "      <td>1.000000</td>\n",
       "      <td>64</td>\n",
       "      <td>1.000000</td>\n",
       "      <td>153</td>\n",
       "      <td>1.000000</td>\n",
       "      <td>208</td>\n",
       "      <td>1.000000</td>\n",
       "      <td>425</td>\n",
       "    </tr>\n",
       "    <tr>\n",
       "      <th>No Diploma</th>\n",
       "      <td>0.640625</td>\n",
       "      <td>41</td>\n",
       "      <td>0.405229</td>\n",
       "      <td>62</td>\n",
       "      <td>0.389423</td>\n",
       "      <td>81</td>\n",
       "      <td>0.432941</td>\n",
       "      <td>184</td>\n",
       "    </tr>\n",
       "    <tr>\n",
       "      <th>HS diploma or GED</th>\n",
       "      <td>0.312500</td>\n",
       "      <td>20</td>\n",
       "      <td>0.450980</td>\n",
       "      <td>69</td>\n",
       "      <td>0.350962</td>\n",
       "      <td>73</td>\n",
       "      <td>0.381176</td>\n",
       "      <td>162</td>\n",
       "    </tr>\n",
       "    <tr>\n",
       "      <th>Some college, no degree</th>\n",
       "      <td>0.046875</td>\n",
       "      <td>3</td>\n",
       "      <td>0.111111</td>\n",
       "      <td>17</td>\n",
       "      <td>0.168269</td>\n",
       "      <td>35</td>\n",
       "      <td>0.129412</td>\n",
       "      <td>55</td>\n",
       "    </tr>\n",
       "    <tr>\n",
       "      <th>Degree (Associate or higher)</th>\n",
       "      <td>0.000000</td>\n",
       "      <td>0</td>\n",
       "      <td>0.032680</td>\n",
       "      <td>5</td>\n",
       "      <td>0.091346</td>\n",
       "      <td>19</td>\n",
       "      <td>0.056471</td>\n",
       "      <td>24</td>\n",
       "    </tr>\n",
       "  </tbody>\n",
       "</table>\n",
       "</div>"
      ],
      "text/plain": [
       "                              16-18 (%)  16-18  19-21 (%)  19-21  22-24 (%)  \\\n",
       "-                                                                             \n",
       "Opportunity Youth              1.000000     64   1.000000    153   1.000000   \n",
       "No Diploma                     0.640625     41   0.405229     62   0.389423   \n",
       "HS diploma or GED              0.312500     20   0.450980     69   0.350962   \n",
       "Some college, no degree        0.046875      3   0.111111     17   0.168269   \n",
       "Degree (Associate or higher)   0.000000      0   0.032680      5   0.091346   \n",
       "\n",
       "                              22-24  Totals (%)  Totals  \n",
       "-                                                        \n",
       "Opportunity Youth               208    1.000000     425  \n",
       "No Diploma                       81    0.432941     184  \n",
       "HS diploma or GED                73    0.381176     162  \n",
       "Some college, no degree          35    0.129412      55  \n",
       "Degree (Associate or higher)     19    0.056471      24  "
      ]
     },
     "execution_count": 344,
     "metadata": {},
     "output_type": "execute_result"
    }
   ],
   "source": [
    "Data_2017_OY"
   ]
  },
  {
   "cell_type": "code",
   "execution_count": 345,
   "metadata": {},
   "outputs": [
    {
     "data": {
      "image/png": "[encoded data removed]",
      "text/plain": [
       "<Figure size 648x648 with 1 Axes>"
      ]
     },
     "metadata": {},
     "output_type": "display_data"
    }
   ],
   "source": [
    "df = pd.DataFrame({'Opportunity Youth by Age 2016': [2805, 7284, 8728]}, index=['16-18', '19-21', '22-24'])\n",
    "df.plot.pie(y = 'Opportunity Youth by Age 2016', figsize=(9,9))\n",
    "plt.show()"
   ]
  },
  {
   "cell_type": "code",
   "execution_count": 346,
   "metadata": {},
   "outputs": [
    {
     "data": {
      "image/png": "[encoded data removed]",
      "text/plain": [
       "<Figure size 648x648 with 1 Axes>"
      ]
     },
     "metadata": {},
     "output_type": "display_data"
    }
   ],
   "source": [
    "df2017 = pd.DataFrame({'Opportunity Youth by Age 2017': [61, 136, 173]}, index=['16-18', '19-21', '22-24'])\n",
    "df2017.plot.pie(y = 'Opportunity Youth by Age 2017', figsize=(9,9))\n",
    "plt.show()"
   ]
  },
  {
   "cell_type": "code",
   "execution_count": 347,
   "metadata": {},
   "outputs": [
    {
     "data": {
      "image/png": "[encoded data removed]",
      "text/plain": [
       "<Figure size 432x288 with 1 Axes>"
      ]
     },
     "metadata": {
      "needs_background": "light"
     },
     "output_type": "display_data"
    }
   ],
   "source": [
    "OY_HS_GED_2016 = [985, 3349, 3067]\n",
    "OY_HS_GED_2017 = [20, 69, 73]\n",
    "index = ['16-18', '19-21', '22-24']\n",
    "\n",
    "df = pd.DataFrame({'2016':OY_HS_GED_2016, '2017':OY_HS_GED_2017}, index=index)\n",
    "ax = df.plot.bar(rot=0)  "
   ]
  }
 ],
 "metadata": {
  "kernelspec": {
   "display_name": "Python [conda env:oy-env] *",
   "language": "python",
   "name": "conda-env-oy-env-py"
  },
  "language_info": {
   "codemirror_mode": {
    "name": "ipython",
    "version": 3
   },
   "file_extension": ".py",
   "mimetype": "text/x-python",
   "name": "python",
   "nbconvert_exporter": "python",
   "pygments_lexer": "ipython3",
   "version": "3.7.3"
  }
 },
 "nbformat": 4,
 "nbformat_minor": 4
}
